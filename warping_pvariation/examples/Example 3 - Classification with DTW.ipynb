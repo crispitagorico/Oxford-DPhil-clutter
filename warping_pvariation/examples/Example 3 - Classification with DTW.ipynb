{
 "cells": [
  {
   "cell_type": "markdown",
   "metadata": {},
   "source": [
    "### Import libraries"
   ]
  },
  {
   "cell_type": "code",
   "execution_count": 1,
   "metadata": {},
   "outputs": [],
   "source": [
    "import sys\n",
    "sys.path.insert(0, '../backend')\n",
    "sys.path.insert(0, '../data')\n",
    "sys.path.insert(0, '../images')"
   ]
  },
  {
   "cell_type": "code",
   "execution_count": 3,
   "metadata": {},
   "outputs": [],
   "source": [
    "import numpy as np\n",
    "import torch\n",
    "import pandas as pd\n",
    "import importlib\n",
    "from tqdm import tqdm\n",
    "import matplotlib.pyplot as plt\n",
    "import seaborn as sns\n",
    "from scipy.io import arff\n",
    "from sklearn.metrics import classification_report, confusion_matrix, accuracy_score, roc_auc_score\n",
    "from sklearn.model_selection import train_test_split\n",
    "from sklearn.preprocessing import LabelEncoder, StandardScaler, MaxAbsScaler, MinMaxScaler\n",
    "\n",
    "import knn_dtw"
   ]
  },
  {
   "cell_type": "markdown",
   "metadata": {},
   "source": [
    "# Load music signals"
   ]
  },
  {
   "cell_type": "code",
   "execution_count": 74,
   "metadata": {},
   "outputs": [],
   "source": [
    "data_train = arff.loadarff('../data/AtrialFibrillation/AtrialFibrillation_TRAIN.arff')\n",
    "data_test = arff.loadarff('../data/AtrialFibrillation/AtrialFibrillation_TEST.arff')\n",
    "\n",
    "df_train = pd.DataFrame(data_train[0]).iloc[::2,:]\n",
    "df_test = pd.DataFrame(data_test[0]).iloc[::2,:]"
   ]
  },
  {
   "cell_type": "code",
   "execution_count": 75,
   "metadata": {},
   "outputs": [],
   "source": [
    "# labels_train = df_train.activity\n",
    "# labels_test = df_test.activity\n",
    "labels_train = df_train.target \n",
    "labels_test = df_test.target\n",
    "\n",
    "y_train = LabelEncoder().fit_transform(labels_train)\n",
    "y_test = LabelEncoder().fit_transform(labels_test)\n",
    "\n",
    "# x_train = [np.array(a.tolist()).T for a in df_train.relationalAtt]\n",
    "# x_test = [np.array(a.tolist()).T for a in df_test.relationalAtt]\n",
    "x_train = [np.array(a.tolist()).T for a in df_train.ECG_Atrial_Fibrilation]\n",
    "x_test = [np.array(a.tolist()).T for a in df_test.ECG_Atrial_Fibrilation]\n",
    "\n",
    "length = x_train[0].shape[0]"
   ]
  },
  {
   "cell_type": "markdown",
   "metadata": {},
   "source": [
    "# Set up training and evaluation sets"
   ]
  },
  {
   "cell_type": "markdown",
   "metadata": {},
   "source": [
    "# NN Classifiers"
   ]
  },
  {
   "cell_type": "code",
   "execution_count": 76,
   "metadata": {},
   "outputs": [
    {
     "data": {
      "text/plain": [
       "<module 'knn_dtw' from '../backend\\\\knn_dtw.py'>"
      ]
     },
     "execution_count": 76,
     "metadata": {},
     "output_type": "execute_result"
    }
   ],
   "source": [
    "importlib.reload(knn_dtw)"
   ]
  },
  {
   "cell_type": "code",
   "execution_count": 80,
   "metadata": {},
   "outputs": [],
   "source": [
    "label, proba, acc_score, conf_mat = knn_dtw.knn_dtw(x_train, x_test, y_train, y_test, sub_rate=0.1, \n",
    "                                                    length=length, replace=False, n_neighbours=1)"
   ]
  },
  {
   "cell_type": "code",
   "execution_count": 81,
   "metadata": {},
   "outputs": [
    {
     "data": {
      "text/plain": [
       "0.375"
      ]
     },
     "execution_count": 81,
     "metadata": {},
     "output_type": "execute_result"
    }
   ],
   "source": [
    "acc_score"
   ]
  },
  {
   "cell_type": "code",
   "execution_count": 82,
   "metadata": {},
   "outputs": [
    {
     "data": {
      "image/png": "[encoded data removed]",
      "text/plain": [
       "<Figure size 432x288 with 2 Axes>"
      ]
     },
     "metadata": {},
     "output_type": "display_data"
    }
   ],
   "source": [
    "sns.heatmap(conf_mat, cmap=\"Greens\", annot=True)\n",
    "plt.show()"
   ]
  },
  {
   "cell_type": "code",
   "execution_count": null,
   "metadata": {},
   "outputs": [],
   "source": []
  }
 ],
 "metadata": {
  "kernelspec": {
   "display_name": "Python 3",
   "language": "python",
   "name": "python3"
  },
  "language_info": {
   "codemirror_mode": {
    "name": "ipython",
    "version": 3
   },
   "file_extension": ".py",
   "mimetype": "text/x-python",
   "name": "python",
   "nbconvert_exporter": "python",
   "pygments_lexer": "ipython3",
   "version": "3.6.5"
  }
 },
 "nbformat": 4,
 "nbformat_minor": 2
}
