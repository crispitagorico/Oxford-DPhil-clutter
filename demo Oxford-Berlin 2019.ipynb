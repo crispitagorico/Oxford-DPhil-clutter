{
 "cells": [
  {
   "cell_type": "code",
   "execution_count": 1,
   "metadata": {},
   "outputs": [],
   "source": [
    "from free_lie_algebra import *\n",
    "from logsignature import *\n",
    "from bch import *\n",
    "import numpy as np\n",
    "from tjl_dense_numpy_tensor import *\n",
    "from tjl_hall_numpy_lie import *\n",
    "from esig import tosig"
   ]
  },
  {
   "cell_type": "markdown",
   "metadata": {},
   "source": [
    "# define size of the problem"
   ]
  },
  {
   "cell_type": "code",
   "execution_count": 2,
   "metadata": {},
   "outputs": [],
   "source": [
    "width, depth = 2, 3"
   ]
  },
  {
   "cell_type": "markdown",
   "metadata": {},
   "source": [
    "# random Lie elements"
   ]
  },
  {
   "cell_type": "code",
   "execution_count": 3,
   "metadata": {},
   "outputs": [],
   "source": [
    "X = randomLieElt(width, depth)\n",
    "Y = randomLieElt(width, depth)"
   ]
  },
  {
   "cell_type": "code",
   "execution_count": 4,
   "metadata": {},
   "outputs": [
    {
     "data": {
      "text/plain": [
       "E[{}, {1: 0.11974600078527375, 2: 0.4740491388629955}, {12: 0.840048049246185, 21: -0.840048049246185}, {112: -0.20690852455289088, 121: 0.41381704910578176, 211: -0.20690852455289088, 212: 0.44878381966985414, 221: -0.22439190983492707, 122: -0.22439190983492707}]"
      ]
     },
     "execution_count": 4,
     "metadata": {},
     "output_type": "execute_result"
    }
   ],
   "source": [
    "X"
   ]
  },
  {
   "cell_type": "code",
   "execution_count": 5,
   "metadata": {},
   "outputs": [
    {
     "data": {
      "text/plain": [
       "E[{}, {1: 0.7813609908560185, 2: 0.7485024636364407}, {12: 0.2595991887582283, 21: -0.2595991887582283}, {112: -0.8059990710617843, 121: 1.6119981421235685, 211: -0.8059990710617843, 212: -0.22251805837393457, 221: 0.11125902918696728, 122: 0.11125902918696728}]"
      ]
     },
     "execution_count": 5,
     "metadata": {},
     "output_type": "execute_result"
    }
   ],
   "source": [
    "Y"
   ]
  },
  {
   "cell_type": "markdown",
   "metadata": {},
   "source": [
    "# let's pick a Hall basis: Coropa "
   ]
  },
  {
   "cell_type": "code",
   "execution_count": 6,
   "metadata": {},
   "outputs": [],
   "source": [
    "Hall_basis = HallBasis(width, depth, lessExpressionStandardHall)"
   ]
  },
  {
   "cell_type": "code",
   "execution_count": 7,
   "metadata": {},
   "outputs": [
    {
     "data": {
      "text/plain": [
       "[[(1,), (2,)], [((1,), (2,))], [((1,), ((1,), (2,))), ((2,), ((1,), (2,)))]]"
      ]
     },
     "execution_count": 7,
     "metadata": {},
     "output_type": "execute_result"
    }
   ],
   "source": [
    "Hall_basis.data"
   ]
  },
  {
   "cell_type": "markdown",
   "metadata": {},
   "source": [
    "# concatenation and shuffle"
   ]
  },
  {
   "cell_type": "code",
   "execution_count": 8,
   "metadata": {},
   "outputs": [
    {
     "data": {
      "text/plain": [
       "E[{}, {}, {11: 0.09356485382462706, 12: 0.08963017659838857, 21: 0.3704035048564325, 22: 0.3548269483236853}, {112: 0.031085964660899235, 121: 0.6252948114647654, 212: -0.5057152625533852, 221: -0.12306277188037035, 122: 0.6287780344337556, 211: -0.6563807761256646}, {1112: -0.09651516539629433, 1121: 0.03136008103138502, 1211: 0.22682533412611294, 1212: 0.5011732252598987, 1221: -0.3800840533145434, 1122: -0.14154871657882842, 2112: -0.7550304980386747, 2121: 1.332904293242054, 2211: -0.5574142505699061, 2212: -0.2734423912851584, 2221: 0.05274224697681472, 2122: 0.38865804163987266, 2111: -0.16167024976120364, 1222: -0.16795789733152897}, {12112: -0.5696513770975044, 12121: 1.2467293244371935, 12211: -0.6770779473396892, 12212: -0.24517781861612903, 12221: 0.1517148881865928, 12122: 0.09346293042953623, 21112: 0.6233646622185968, 21121: -1.300442609558286, 21211: 0.6770779473396892, 21212: 0.3034297763731856, 21221: -0.2099668459436494, 21122: -0.09346293042953623, 11212: -0.053713285121092434, 11221: 0.053713285121092434, 22112: -0.05825195775705658, 22121: 0.05825195775705658}, {112112: 0.16676807858439444, 112121: -0.33353615716878887, 112211: 0.16676807858439444, 112212: 0.04604088314452485, 112221: -0.023020441572262424, 112122: -0.023020441572262424, 121112: -0.33353615716878887, 121121: 0.6670723143375777, 121211: -0.33353615716878887, 121212: -0.0920817662890497, 121221: 0.04604088314452485, 121122: 0.04604088314452485, 211112: 0.16676807858439444, 211121: -0.33353615716878887, 211211: 0.16676807858439444, 211212: 0.04604088314452485, 211221: -0.023020441572262424, 211122: -0.023020441572262424, 212112: -0.36171934176146175, 212121: 0.7234386835229235, 212211: -0.36171934176146175, 212212: -0.09986250418257393, 212221: 0.049931252091286966, 212122: 0.049931252091286966, 221112: 0.18085967088073088, 221121: -0.36171934176146175, 221211: 0.18085967088073088, 221212: 0.049931252091286966, 221221: -0.024965626045643483, 221122: -0.024965626045643483, 122112: 0.18085967088073088, 122121: -0.36171934176146175, 122211: 0.18085967088073088, 122212: 0.049931252091286966, 122221: -0.024965626045643483, 122122: -0.024965626045643483}]"
      ]
     },
     "execution_count": 8,
     "metadata": {},
     "output_type": "execute_result"
    }
   ],
   "source": [
    "concatenationProduct(X, Y)"
   ]
  },
  {
   "cell_type": "code",
   "execution_count": 9,
   "metadata": {},
   "outputs": [
    {
     "data": {
      "text/plain": [
       "E[{}, {}, {11: 0.18712970764925413, 12: 0.46003368145482104, 21: 0.46003368145482104, 22: 0.7096538966473706}, {112: 1.3749334815731276, 211: -1.3749334815731276, 122: 1.503681612628252, 221: -1.503681612628252}, {1112: -0.7745562454724939, 1121: 0.7745562454724939, 1211: 0.7745562454724939, 2111: -0.7745562454724939, 1212: 0.6989629671487345, 2112: -1.2981795354326269, 2121: 0.6989629671487345, 1221: 0.9514991329121613, 2211: -0.5256227658885018, 1122: -0.5256227658885018, 2212: 0.34564695106414267, 2122: 0.34564695106414267, 2221: -0.3456469510641428, 1222: -0.3456469510641428}, {12112: 2.9231649298431264, 11212: 1.461582464921563, 11122: -4.384747394764688, 11221: 7.307912324607817, 12211: -7.307912324607817, 21211: -1.4615824649215639, 21121: -2.923164929843127, 21112: -2.3592239273284576e-16, 12212: -0.1408438906899186, 12122: -0.07042194534495927, 21122: -0.35210972672479646, 12221: -2.7755575615628914e-17, 21221: 0.14084389068991854, 22121: 0.07042194534495921, 22112: 0.35210972672479646, 11222: 0.21126583603487772, 22111: 4.384747394764688, 22211: -0.21126583603487772, 12121: -6.938893903907228e-18}, {111212: -1.0006084715063668, 111122: 2.0012169430127327, 112121: 1.0006084715063668, 111221: -4.002433886025465, 112112: -2.001216943012733, 121112: -1.0006084715063668, 112211: 6.003650829038199, 121211: 1.0006084715063672, 211211: -2.0012169430127336, 211121: -1.0006084715063666, 211112: 2.0012169430127327, 112212: -1.420553063776216, 112122: -0.4735176879254054, 121212: 0.4735176879254055, 121122: -1.420553063776216, 211212: 0.4735176879254053, 211122: -1.420553063776216, 112221: -1.420553063776216, 121221: 0.4735176879254055, 122121: 0.4735176879254054, 122112: 3.3146238154778374, 211221: 3.3146238154778374, 212121: 0.4735176879254054, 221121: -1.420553063776216, 221112: -1.420553063776216, 111222: 1.420553063776216, 121121: 2.0012169430127336, 122111: -4.002433886025465, 212111: -1.000608471506367, 212112: 0.4735176879254055, 122211: -1.420553063776216, 212211: -1.420553063776216, 221211: -0.4735176879254055, 221111: 2.0012169430127327, 222111: 1.420553063776216, 212212: -0.2995875125477219, 212122: -0.14979375627386096, 221212: -0.14979375627386093, 221122: -0.8987625376431653, 212221: 0.1497937562738609, 221221: 0.2995875125477217, 222121: 0.1497937562738609, 222112: 0.5991750250954436, 211222: 0.5991750250954436, 121222: 0.1497937562738609, 122122: 0.2995875125477217, 122212: 0.1497937562738609, 222211: -0.2995875125477218, 122221: -0.2995875125477218, 112222: -0.2995875125477218}]"
      ]
     },
     "execution_count": 9,
     "metadata": {},
     "output_type": "execute_result"
    }
   ],
   "source": [
    "shuffleProduct(X,Y)"
   ]
  },
  {
   "cell_type": "code",
   "execution_count": null,
   "metadata": {},
   "outputs": [],
   "source": [
    "# z = lieProduct(X,Y)"
   ]
  },
  {
   "cell_type": "markdown",
   "metadata": {},
   "source": [
    "# BCH"
   ]
  },
  {
   "cell_type": "code",
   "execution_count": 10,
   "metadata": {},
   "outputs": [],
   "source": [
    "def cbh (l1, l2, depth, width):\n",
    "    return  t2l(\n",
    "                tensor_log(\n",
    "                    tensor_multiply(\n",
    "                        tensor_exp(\n",
    "                            l2t(\n",
    "                                l1,width,depth\n",
    "                                ),depth\n",
    "                            ),\n",
    "                        tensor_exp(\n",
    "                            l2t(\n",
    "                                l2,width,depth\n",
    "                                ),depth\n",
    "                            ),depth\n",
    "                        ),depth\n",
    "                    )\n",
    "                )"
   ]
  },
  {
   "cell_type": "code",
   "execution_count": 11,
   "metadata": {},
   "outputs": [],
   "source": [
    "l1 = t2l(tensor_log(stream2sigtensor(brownian(20, width), depth), depth))\n",
    "l2 = t2l(tensor_log(stream2sigtensor(brownian(20, width), depth), depth))"
   ]
  },
  {
   "cell_type": "code",
   "execution_count": 12,
   "metadata": {},
   "outputs": [
    {
     "data": {
      "text/plain": [
       "defaultdict(float,\n",
       "            {1: -2.064994030291578,\n",
       "             2: 0.9807506770476359,\n",
       "             3: -0.1318280718585062,\n",
       "             4: 0.06183404742606287,\n",
       "             5: 0.06570229709682189})"
      ]
     },
     "execution_count": 12,
     "metadata": {},
     "output_type": "execute_result"
    }
   ],
   "source": [
    "l1"
   ]
  },
  {
   "cell_type": "code",
   "execution_count": 14,
   "metadata": {},
   "outputs": [
    {
     "data": {
      "text/plain": [
       "defaultdict(float,\n",
       "            {1: -0.3467777002692063,\n",
       "             2: 0.24774908461544276,\n",
       "             3: 0.002726032539728529,\n",
       "             4: 0.008203542662911872,\n",
       "             5: 0.09637204731156684})"
      ]
     },
     "execution_count": 14,
     "metadata": {},
     "output_type": "execute_result"
    }
   ],
   "source": [
    "cbh(l1, l2, depth, width)"
   ]
  },
  {
   "cell_type": "markdown",
   "metadata": {},
   "source": [
    "# log-Signature via T2l - L2T"
   ]
  },
  {
   "cell_type": "code",
   "execution_count": 15,
   "metadata": {},
   "outputs": [],
   "source": [
    "path = brownian(20, width)"
   ]
  },
  {
   "cell_type": "code",
   "execution_count": 16,
   "metadata": {},
   "outputs": [],
   "source": [
    "sig = stream2sigtensor(path, depth)"
   ]
  },
  {
   "cell_type": "code",
   "execution_count": 17,
   "metadata": {},
   "outputs": [],
   "source": [
    "log_sig = tensor_log(sig, depth)"
   ]
  },
  {
   "cell_type": "code",
   "execution_count": 18,
   "metadata": {},
   "outputs": [
    {
     "data": {
      "text/plain": [
       "array([-0.23515942, -0.32113107,  0.25822628,  0.13291683, -0.05530719])"
      ]
     },
     "execution_count": 18,
     "metadata": {},
     "output_type": "execute_result"
    }
   ],
   "source": [
    "sparse_to_dense(t2l(log_sig), width, depth)"
   ]
  },
  {
   "cell_type": "markdown",
   "metadata": {},
   "source": [
    "# Via Standard BCH"
   ]
  },
  {
   "cell_type": "code",
   "execution_count": 19,
   "metadata": {},
   "outputs": [
    {
     "name": "stdout",
     "output_type": "stream",
     "text": [
      "coefficient of 1 is -0.2351594865322113\n",
      "coefficient of 2 is -0.3211310803890228\n",
      "coefficient of [1,2] is 0.25822627544403076\n",
      "coefficient of [1,[1,2]] is 0.13291680812835693\n",
      "coefficient of [2,[1,2]] is 0.05530718341469765\n"
     ]
    }
   ],
   "source": [
    "# truncated signature of the path\n",
    "sig = signature_of_path_manual(path, depth)\n",
    "\n",
    "# log-signature in tensor form\n",
    "x = log(sig)\n",
    "\n",
    "bb = getLogSigOfPath(path, depth)\n",
    "for h, b in zip([h for level in Hall_basis.data for h in level], bb):\n",
    "    print(\"coefficient of \"+printTreeAsLieBrackets(h)+\" is \"+f'{b}')"
   ]
  },
  {
   "cell_type": "markdown",
   "metadata": {},
   "source": [
    "# finally using esig"
   ]
  },
  {
   "cell_type": "code",
   "execution_count": 20,
   "metadata": {},
   "outputs": [
    {
     "data": {
      "text/plain": [
       "array([-0.23515942, -0.32113107,  0.25822628,  0.13291683, -0.05530719])"
      ]
     },
     "execution_count": 20,
     "metadata": {},
     "output_type": "execute_result"
    }
   ],
   "source": [
    "tosig.stream2logsig(path, depth)"
   ]
  },
  {
   "cell_type": "code",
   "execution_count": null,
   "metadata": {},
   "outputs": [],
   "source": []
  }
 ],
 "metadata": {
  "kernelspec": {
   "display_name": "Python 3",
   "language": "python",
   "name": "python3"
  },
  "language_info": {
   "codemirror_mode": {
    "name": "ipython",
    "version": 3
   },
   "file_extension": ".py",
   "mimetype": "text/x-python",
   "name": "python",
   "nbconvert_exporter": "python",
   "pygments_lexer": "ipython3",
   "version": "3.6.5"
  }
 },
 "nbformat": 4,
 "nbformat_minor": 2
}
